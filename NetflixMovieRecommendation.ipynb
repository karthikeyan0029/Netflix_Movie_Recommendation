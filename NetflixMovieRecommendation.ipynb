{
  "nbformat": 4,
  "nbformat_minor": 0,
  "metadata": {
    "colab": {
      "name": "NetflixMovieRecommendation.ipynb",
      "provenance": [],
      "toc_visible": true
    },
    "kernelspec": {
      "name": "python3",
      "display_name": "Python 3"
    },
    "language_info": {
      "name": "python"
    }
  },
  "cells": [
    {
      "cell_type": "markdown",
      "source": [
        "Importing libraries"
      ],
      "metadata": {
        "id": "ZfwDy-HZtTre"
      }
    },
    {
      "cell_type": "code",
      "execution_count": 2,
      "metadata": {
        "colab": {
          "base_uri": "https://localhost:8080/"
        },
        "id": "l2cp2WL-jlDv",
        "outputId": "460b099f-3728-44ed-b816-1b3ca8139d73"
      },
      "outputs": [
        {
          "output_type": "stream",
          "name": "stdout",
          "text": [
            "Looking in indexes: https://pypi.org/simple, https://us-python.pkg.dev/colab-wheels/public/simple/\n",
            "Collecting apyori\n",
            "  Downloading apyori-1.1.2.tar.gz (8.6 kB)\n",
            "Building wheels for collected packages: apyori\n",
            "  Building wheel for apyori (setup.py) ... \u001b[?25l\u001b[?25hdone\n",
            "  Created wheel for apyori: filename=apyori-1.1.2-py3-none-any.whl size=5974 sha256=4743042447edf9cc0f04947a6e9d401d8116099be460f0387b044b3606649150\n",
            "  Stored in directory: /root/.cache/pip/wheels/cb/f6/e1/57973c631d27efd1a2f375bd6a83b2a616c4021f24aab84080\n",
            "Successfully built apyori\n",
            "Installing collected packages: apyori\n",
            "Successfully installed apyori-1.1.2\n"
          ]
        }
      ],
      "source": [
        "!pip install apyori"
      ]
    },
    {
      "cell_type": "code",
      "source": [
        "import numpy as np\n",
        "import matplotlib.pyplot as plt\n",
        "import pandas as pd"
      ],
      "metadata": {
        "id": "AtKxFRHNmnmy"
      },
      "execution_count": 4,
      "outputs": []
    },
    {
      "cell_type": "markdown",
      "source": [
        "Importing dataset"
      ],
      "metadata": {
        "id": "kmlxrW47tZ1x"
      }
    },
    {
      "cell_type": "code",
      "source": [
        "dataset = pd.read_csv('Netflix_Movie_Recommendation.csv', header= None)\n",
        "transactions = []\n",
        "for i in range(0,7466):\n",
        "  transactions.append([str(dataset.values[i,j]) for j in range (0,20)])"
      ],
      "metadata": {
        "id": "pQcJoqO7mxgO"
      },
      "execution_count": 5,
      "outputs": []
    },
    {
      "cell_type": "markdown",
      "source": [
        "Eclat Traning On Dataset"
      ],
      "metadata": {
        "id": "cfWudRzSss_d"
      }
    },
    {
      "cell_type": "code",
      "source": [
        "from apyori import apriori\n",
        "rules = apriori(transactions = transactions ,min_support=0.003,min_confidence=0.2,min_lift=3,min_length=2,max_length=3)"
      ],
      "metadata": {
        "id": "BB2F3OXmoRiD"
      },
      "execution_count": 6,
      "outputs": []
    },
    {
      "cell_type": "markdown",
      "source": [
        "Visualizing"
      ],
      "metadata": {
        "id": "bA4RovQ3s48l"
      }
    },
    {
      "cell_type": "markdown",
      "source": [
        "Raw Results"
      ],
      "metadata": {
        "id": "px4hxsZitARg"
      }
    },
    {
      "cell_type": "code",
      "source": [
        "results = list(rules)"
      ],
      "metadata": {
        "id": "8P6EOpivpXTI"
      },
      "execution_count": 7,
      "outputs": []
    },
    {
      "cell_type": "code",
      "source": [
        "results"
      ],
      "metadata": {
        "colab": {
          "base_uri": "https://localhost:8080/"
        },
        "id": "c2qfT_g2pi4Y",
        "outputId": "dd0efacf-b570-4c0a-fc7e-cb27a1b6734d"
      },
      "execution_count": 8,
      "outputs": [
        {
          "output_type": "execute_result",
          "data": {
            "text/plain": [
              "[RelationRecord(items=frozenset({'Black Panther', 'Captain America'}), support=0.00334851326011251, ordered_statistics=[OrderedStatistic(items_base=frozenset({'Captain America'}), items_add=frozenset({'Black Panther'}), confidence=0.24509803921568626, lift=5.140174047146949)]),\n",
              " RelationRecord(items=frozenset({'Comedy nights with Kapil', 'Game of thrones'}), support=0.0032145727297080095, ordered_statistics=[OrderedStatistic(items_base=frozenset({'Game of thrones'}), items_add=frozenset({'Comedy nights with Kapil'}), confidence=0.20512820512820512, lift=3.1001764766946955)]),\n",
              " RelationRecord(items=frozenset({'Kanan Gill Comedy', 'Comedy nights with Kapil'}), support=0.008036431824270024, ordered_statistics=[OrderedStatistic(items_base=frozenset({'Kanan Gill Comedy'}), items_add=frozenset({'Comedy nights with Kapil'}), confidence=0.2714932126696833, lift=4.103174748566509)]),\n",
              " RelationRecord(items=frozenset({'Prision Break', 'Game of thrones'}), support=0.004553978033753014, ordered_statistics=[OrderedStatistic(items_base=frozenset({'Game of thrones'}), items_add=frozenset({'Prision Break'}), confidence=0.2905982905982906, lift=4.832086498010774)]),\n",
              " RelationRecord(items=frozenset({'Harry Potter 1', 'Harry Potter 2'}), support=0.0057594428073935175, ordered_statistics=[OrderedStatistic(items_base=frozenset({'Harry Potter 1'}), items_add=frozenset({'Harry Potter 2'}), confidence=0.36752136752136755, lift=4.642833383950135)]),\n",
              " RelationRecord(items=frozenset({'The Lord of the rings', 'Harry Potter 1'}), support=0.005089740155371015, ordered_statistics=[OrderedStatistic(items_base=frozenset({'Harry Potter 1'}), items_add=frozenset({'The Lord of the rings'}), confidence=0.3247863247863248, lift=4.523982650848323)]),\n",
              " RelationRecord(items=frozenset({'crimes of grindelwald', 'Harry Potter 2'}), support=0.0057594428073935175, ordered_statistics=[OrderedStatistic(items_base=frozenset({'crimes of grindelwald'}), items_add=frozenset({'Harry Potter 2'}), confidence=0.3006993006993007, lift=3.7986818595955647)]),\n",
              " RelationRecord(items=frozenset({'inception', 'Interstellar'}), support=0.015938923118135547, ordered_statistics=[OrderedStatistic(items_base=frozenset({'Interstellar'}), items_add=frozenset({'inception'}), confidence=0.3216216216216216, lift=3.262536721504113)]),\n",
              " RelationRecord(items=frozenset({'inception', 'The Wolf of Wall Street'}), support=0.005357621216180016, ordered_statistics=[OrderedStatistic(items_base=frozenset({'The Wolf of Wall Street'}), items_add=frozenset({'inception'}), confidence=0.3773584905660377, lift=3.8279327317473335)]),\n",
              " RelationRecord(items=frozenset({'The Lord of the rings', 'Back to the Future', 'Billa'}), support=0.0032145727297080095, ordered_statistics=[OrderedStatistic(items_base=frozenset({'Back to the Future', 'Billa'}), items_add=frozenset({'The Lord of the rings'}), confidence=0.2608695652173913, lift=3.633679428942245), OrderedStatistic(items_base=frozenset({'The Lord of the rings', 'Back to the Future'}), items_add=frozenset({'Billa'}), confidence=0.3333333333333333, lift=3.4806526806526805)]),\n",
              " RelationRecord(items=frozenset({'Prision Break', 'The Intouchables', 'Back to the Future'}), support=0.0032145727297080095, ordered_statistics=[OrderedStatistic(items_base=frozenset({'Prision Break', 'Back to the Future'}), items_add=frozenset({'The Intouchables'}), confidence=0.41379310344827586, lift=3.1882139425643214)]),\n",
              " RelationRecord(items=frozenset({'Casablanca', 'The Lion King', 'Billa'}), support=0.0030806321993035093, ordered_statistics=[OrderedStatistic(items_base=frozenset({'Casablanca', 'Billa'}), items_add=frozenset({'The Lion King'}), confidence=0.2987012987012987, lift=4.347181084023189), OrderedStatistic(items_base=frozenset({'Casablanca', 'The Lion King'}), items_add=frozenset({'Billa'}), confidence=0.36507936507936506, lift=3.812143412143412)]),\n",
              " RelationRecord(items=frozenset({'Comedy nights with Kapil', 'The Intouchables', 'Billa'}), support=0.004821859094562015, ordered_statistics=[OrderedStatistic(items_base=frozenset({'Comedy nights with Kapil', 'Billa'}), items_add=frozenset({'The Intouchables'}), confidence=0.42352941176470593, lift=3.2632307412128942), OrderedStatistic(items_base=frozenset({'The Intouchables', 'Billa'}), items_add=frozenset({'Comedy nights with Kapil'}), confidence=0.20338983050847462, lift=3.073903794688809)]),\n",
              " RelationRecord(items=frozenset({'Comedy nights with Kapil', 'The Lord of the Rings: The Fellowship of the Ring', 'Billa'}), support=0.0057594428073935175, ordered_statistics=[OrderedStatistic(items_base=frozenset({'The Lord of the Rings: The Fellowship of the Ring', 'Billa'}), items_add=frozenset({'Comedy nights with Kapil'}), confidence=0.2057416267942584, lift=3.1094473393642375)]),\n",
              " RelationRecord(items=frozenset({\"Schindler's List\", 'The Intouchables', 'Billa'}), support=0.004018215912135012, ordered_statistics=[OrderedStatistic(items_base=frozenset({\"Schindler's List\", 'Billa'}), items_add=frozenset({'The Intouchables'}), confidence=0.5, lift=3.8524251805985554)]),\n",
              " RelationRecord(items=frozenset({'The Lord of the rings', 'The Dark Knight', 'Billa'}), support=0.007232788641843022, ordered_statistics=[OrderedStatistic(items_base=frozenset({'The Lord of the rings', 'The Dark Knight'}), items_add=frozenset({'Billa'}), confidence=0.3050847457627119, lift=3.185682114495674)]),\n",
              " RelationRecord(items=frozenset({'The Intouchables', 'The Lion King', 'Billa'}), support=0.004152156442539513, ordered_statistics=[OrderedStatistic(items_base=frozenset({'The Intouchables', 'The Lion King'}), items_add=frozenset({'Billa'}), confidence=0.29523809523809524, lift=3.082863802863803)]),\n",
              " RelationRecord(items=frozenset({'The Lord of the Rings: The Fellowship of the Ring', 'The Lion King', 'Billa'}), support=0.00669702652022502, ordered_statistics=[OrderedStatistic(items_base=frozenset({'The Lord of the Rings: The Fellowship of the Ring', 'Billa'}), items_add=frozenset({'The Lion King'}), confidence=0.23923444976076555, lift=3.4817239803389386), OrderedStatistic(items_base=frozenset({'The Lion King', 'The Lord of the Rings: The Fellowship of the Ring'}), items_add=frozenset({'Billa'}), confidence=0.3184713375796178, lift=3.325464344572625)]),\n",
              " RelationRecord(items=frozenset({'The Lord of the rings', 'The Lion King', 'Billa'}), support=0.004018215912135012, ordered_statistics=[OrderedStatistic(items_base=frozenset({'The Lion King', 'Billa'}), items_add=frozenset({'The Lord of the rings'}), confidence=0.24793388429752067, lift=3.453496977920316), OrderedStatistic(items_base=frozenset({'The Lord of the rings', 'Billa'}), items_add=frozenset({'The Lion King'}), confidence=0.24, lift=3.492865497076023), OrderedStatistic(items_base=frozenset({'The Lord of the rings', 'The Lion King'}), items_add=frozenset({'Billa'}), confidence=0.35714285714285715, lift=3.7292707292707292)]),\n",
              " RelationRecord(items=frozenset({'Whiplash', 'The Lion King', 'Billa'}), support=0.00334851326011251, ordered_statistics=[OrderedStatistic(items_base=frozenset({'Whiplash', 'Billa'}), items_add=frozenset({'The Lion King'}), confidence=0.23148148148148148, lift=3.3688903328279545)]),\n",
              " RelationRecord(items=frozenset({'inception', 'The Lord of the Rings: The Fellowship of the Ring', 'Billa'}), support=0.008706134476292525, ordered_statistics=[OrderedStatistic(items_base=frozenset({'The Lord of the Rings: The Fellowship of the Ring', 'Billa'}), items_add=frozenset({'inception'}), confidence=0.3110047846889952, lift=3.1548392968587473)]),\n",
              " RelationRecord(items=frozenset({'The Lord of the rings', 'The Silence of the Lambs', 'Billa'}), support=0.005357621216180016, ordered_statistics=[OrderedStatistic(items_base=frozenset({'The Silence of the Lambs', 'Billa'}), items_add=frozenset({'The Lord of the rings'}), confidence=0.2325581395348837, lift=3.239326622700451), OrderedStatistic(items_base=frozenset({'The Lord of the rings', 'The Silence of the Lambs'}), items_add=frozenset({'Billa'}), confidence=0.2962962962962963, lift=3.093913493913494)]),\n",
              " RelationRecord(items=frozenset({'Black Panther', 'Captain America', 'nan'}), support=0.00334851326011251, ordered_statistics=[OrderedStatistic(items_base=frozenset({'Captain America'}), items_add=frozenset({'Black Panther', 'nan'}), confidence=0.24509803921568626, lift=5.154653410660038), OrderedStatistic(items_base=frozenset({'nan', 'Captain America'}), items_add=frozenset({'Black Panther'}), confidence=0.24509803921568626, lift=5.140174047146949)]),\n",
              " RelationRecord(items=frozenset({'The Intouchables', 'Casablanca', 'The Shawshank Redemption'}), support=0.003750334851326011, ordered_statistics=[OrderedStatistic(items_base=frozenset({'The Intouchables', 'Casablanca'}), items_add=frozenset({'The Shawshank Redemption'}), confidence=0.27999999999999997, lift=3.201347626339969)]),\n",
              " RelationRecord(items=frozenset({'Comedy nights with Kapil', 'Game of thrones', 'nan'}), support=0.0032145727297080095, ordered_statistics=[OrderedStatistic(items_base=frozenset({'Game of thrones'}), items_add=frozenset({'Comedy nights with Kapil', 'nan'}), confidence=0.20512820512820512, lift=3.1064648671139543), OrderedStatistic(items_base=frozenset({'nan', 'Game of thrones'}), items_add=frozenset({'Comedy nights with Kapil'}), confidence=0.20512820512820512, lift=3.1001764766946955)]),\n",
              " RelationRecord(items=frozenset({'Kanan Gill Comedy', 'Comedy nights with Kapil', 'The Dark Knight'}), support=0.0038842753817305118, ordered_statistics=[OrderedStatistic(items_base=frozenset({'Kanan Gill Comedy', 'The Dark Knight'}), items_add=frozenset({'Comedy nights with Kapil'}), confidence=0.40277777777777773, lift=6.087325686009897)]),\n",
              " RelationRecord(items=frozenset({'Kanan Gill Comedy', 'Comedy nights with Kapil', 'nan'}), support=0.008036431824270024, ordered_statistics=[OrderedStatistic(items_base=frozenset({'Kanan Gill Comedy'}), items_add=frozenset({'Comedy nights with Kapil', 'nan'}), confidence=0.2714932126696833, lift=4.111497618239058), OrderedStatistic(items_base=frozenset({'Kanan Gill Comedy', 'nan'}), items_add=frozenset({'Comedy nights with Kapil'}), confidence=0.2714932126696833, lift=4.103174748566509)]),\n",
              " RelationRecord(items=frozenset({'Prision Break', 'Comedy nights with Kapil', 'The Intouchables'}), support=0.003616394320921511, ordered_statistics=[OrderedStatistic(items_base=frozenset({'Prision Break', 'Comedy nights with Kapil'}), items_add=frozenset({'The Intouchables'}), confidence=0.5, lift=3.8524251805985554), OrderedStatistic(items_base=frozenset({'Comedy nights with Kapil', 'The Intouchables'}), items_add=frozenset({'Prision Break'}), confidence=0.2109375, lift=3.507481904231626), OrderedStatistic(items_base=frozenset({'Prision Break', 'The Intouchables'}), items_add=frozenset({'Comedy nights with Kapil'}), confidence=0.24324324324324326, lift=3.67622278148594)]),\n",
              " RelationRecord(items=frozenset({'Prision Break', 'Comedy nights with Kapil', 'The Lord of the Rings: The Fellowship of the Ring'}), support=0.0034824537905170103, ordered_statistics=[OrderedStatistic(items_base=frozenset({'Prision Break', 'The Lord of the Rings: The Fellowship of the Ring'}), items_add=frozenset({'Comedy nights with Kapil'}), confidence=0.2015503875968992, lift=3.0461036311709506)]),\n",
              " RelationRecord(items=frozenset({'Comedy nights with Kapil', \"Schindler's List\", 'The Dark Knight'}), support=0.005223680685775516, ordered_statistics=[OrderedStatistic(items_base=frozenset({'The Dark Knight', \"Schindler's List\"}), items_add=frozenset({'Comedy nights with Kapil'}), confidence=0.22674418604651161, lift=3.4268665850673194)]),\n",
              " RelationRecord(items=frozenset({'Comedy nights with Kapil', \"Schindler's List\", 'The Intouchables'}), support=0.003616394320921511, ordered_statistics=[OrderedStatistic(items_base=frozenset({'Comedy nights with Kapil', \"Schindler's List\"}), items_add=frozenset({'The Intouchables'}), confidence=0.40298507462686567, lift=3.1049396977958508), OrderedStatistic(items_base=frozenset({'Comedy nights with Kapil', 'The Intouchables'}), items_add=frozenset({\"Schindler's List\"}), confidence=0.2109375, lift=4.1773458222811675), OrderedStatistic(items_base=frozenset({\"Schindler's List\", 'The Intouchables'}), items_add=frozenset({'Comedy nights with Kapil'}), confidence=0.2368421052631579, lift=3.579480076709994)]),\n",
              " RelationRecord(items=frozenset({'Comedy nights with Kapil', 'The Intouchables', 'The Lord of the Rings: The Fellowship of the Ring'}), support=0.007232788641843022, ordered_statistics=[OrderedStatistic(items_base=frozenset({'The Intouchables', 'The Lord of the Rings: The Fellowship of the Ring'}), items_add=frozenset({'Comedy nights with Kapil'}), confidence=0.2030075187969925, lift=3.0681257800371378)]),\n",
              " RelationRecord(items=frozenset({'The Lord of the rings', 'Comedy nights with Kapil', 'The Intouchables'}), support=0.0032145727297080095, ordered_statistics=[OrderedStatistic(items_base=frozenset({'The Lord of the rings', 'Comedy nights with Kapil'}), items_add=frozenset({'The Intouchables'}), confidence=0.39344262295081966, lift=3.0314165355529616)]),\n",
              " RelationRecord(items=frozenset({'inception', 'Comedy nights with Kapil', 'The Intouchables'}), support=0.004955799624966515, ordered_statistics=[OrderedStatistic(items_base=frozenset({'inception', 'The Intouchables'}), items_add=frozenset({'Comedy nights with Kapil'}), confidence=0.22424242424242424, lift=3.3890565574776104)]),\n",
              " RelationRecord(items=frozenset({'Comedy nights with Kapil', 'The Lion King', 'The Lord of the Rings: The Fellowship of the Ring'}), support=0.004420037503348513, ordered_statistics=[OrderedStatistic(items_base=frozenset({'Comedy nights with Kapil', 'The Lion King'}), items_add=frozenset({'The Lord of the Rings: The Fellowship of the Ring'}), confidence=0.611111111111111, lift=3.496211153682418), OrderedStatistic(items_base=frozenset({'The Lion King', 'The Lord of the Rings: The Fellowship of the Ring'}), items_add=frozenset({'Comedy nights with Kapil'}), confidence=0.21019108280254775, lift=3.176693571262797)]),\n",
              " RelationRecord(items=frozenset({'Comedy nights with Kapil', 'The Pianist', 'The Lord of the Rings: The Fellowship of the Ring'}), support=0.005089740155371015, ordered_statistics=[OrderedStatistic(items_base=frozenset({'The Pianist', 'The Lord of the Rings: The Fellowship of the Ring'}), items_add=frozenset({'Comedy nights with Kapil'}), confidence=0.20105820105820105, lift=3.0386650386650387)]),\n",
              " RelationRecord(items=frozenset({'Prision Break', 'nan', 'Game of thrones'}), support=0.004553978033753014, ordered_statistics=[OrderedStatistic(items_base=frozenset({'Game of thrones'}), items_add=frozenset({'Prision Break', 'nan'}), confidence=0.2905982905982906, lift=4.832086498010774), OrderedStatistic(items_base=frozenset({'nan', 'Game of thrones'}), items_add=frozenset({'Prision Break'}), confidence=0.2905982905982906, lift=4.832086498010774)]),\n",
              " RelationRecord(items=frozenset({'The Dark Knight', 'Game of thrones', 'The Lord of the Rings: The Fellowship of the Ring'}), support=0.0032145727297080095, ordered_statistics=[OrderedStatistic(items_base=frozenset({'Game of thrones'}), items_add=frozenset({'The Dark Knight', 'The Lord of the Rings: The Fellowship of the Ring'}), confidence=0.20512820512820512, lift=3.42614581540756)]),\n",
              " RelationRecord(items=frozenset({'inception', 'Gladiator', 'The Lord of the Rings: The Fellowship of the Ring'}), support=0.00334851326011251, ordered_statistics=[OrderedStatistic(items_base=frozenset({'Gladiator', 'The Lord of the Rings: The Fellowship of the Ring'}), items_add=frozenset({'inception'}), confidence=0.3378378378378379, lift=3.42703437132785)]),\n",
              " RelationRecord(items=frozenset({'Harry Potter 1', 'Harry Potter 2', 'nan'}), support=0.0057594428073935175, ordered_statistics=[OrderedStatistic(items_base=frozenset({'Harry Potter 1'}), items_add=frozenset({'nan', 'Harry Potter 2'}), confidence=0.36752136752136755, lift=4.642833383950135), OrderedStatistic(items_base=frozenset({'Harry Potter 1', 'nan'}), items_add=frozenset({'Harry Potter 2'}), confidence=0.36752136752136755, lift=4.642833383950135)]),\n",
              " RelationRecord(items=frozenset({'The Lord of the rings', 'Harry Potter 1', 'nan'}), support=0.005089740155371015, ordered_statistics=[OrderedStatistic(items_base=frozenset({'Harry Potter 1'}), items_add=frozenset({'The Lord of the rings', 'nan'}), confidence=0.3247863247863248, lift=4.532438693186357), OrderedStatistic(items_base=frozenset({'Harry Potter 1', 'nan'}), items_add=frozenset({'The Lord of the rings'}), confidence=0.3247863247863248, lift=4.523982650848323)]),\n",
              " RelationRecord(items=frozenset({'crimes of grindelwald', 'nan', 'Harry Potter 2'}), support=0.0057594428073935175, ordered_statistics=[OrderedStatistic(items_base=frozenset({'crimes of grindelwald'}), items_add=frozenset({'nan', 'Harry Potter 2'}), confidence=0.3006993006993007, lift=3.7986818595955647), OrderedStatistic(items_base=frozenset({'crimes of grindelwald', 'nan'}), items_add=frozenset({'Harry Potter 2'}), confidence=0.3006993006993007, lift=3.7986818595955647)]),\n",
              " RelationRecord(items=frozenset({'inception', 'Pulp Fiction', 'Interstellar'}), support=0.004152156442539513, ordered_statistics=[OrderedStatistic(items_base=frozenset({'Pulp Fiction', 'Interstellar'}), items_add=frozenset({'inception'}), confidence=0.32978723404255317, lift=3.345368871415356), OrderedStatistic(items_base=frozenset({'inception', 'Pulp Fiction'}), items_add=frozenset({'Interstellar'}), confidence=0.20666666666666667, lift=4.170198198198198)]),\n",
              " RelationRecord(items=frozenset({'inception', 'The Dark Knight', 'Interstellar'}), support=0.00669702652022502, ordered_statistics=[OrderedStatistic(items_base=frozenset({'The Dark Knight', 'Interstellar'}), items_add=frozenset({'inception'}), confidence=0.390625, lift=3.962508491847826)]),\n",
              " RelationRecord(items=frozenset({'inception', 'The Intouchables', 'Interstellar'}), support=0.003616394320921511, ordered_statistics=[OrderedStatistic(items_base=frozenset({'The Intouchables', 'Interstellar'}), items_add=frozenset({'inception'}), confidence=0.391304347826087, lift=3.969399810964083)]),\n",
              " RelationRecord(items=frozenset({'inception', 'The Lord of the Rings: The Fellowship of the Ring', 'Interstellar'}), support=0.006429145459416019, ordered_statistics=[OrderedStatistic(items_base=frozenset({'The Lord of the Rings: The Fellowship of the Ring', 'Interstellar'}), items_add=frozenset({'inception'}), confidence=0.39344262295081966, lift=3.9910905203136138)]),\n",
              " RelationRecord(items=frozenset({'inception', 'The Lord of the Rings: The Return of the King', 'Interstellar'}), support=0.0032145727297080095, ordered_statistics=[OrderedStatistic(items_base=frozenset({'The Lord of the Rings: The Return of the King', 'Interstellar'}), items_add=frozenset({'inception'}), confidence=0.4615384615384615, lift=4.681856187290969), OrderedStatistic(items_base=frozenset({'inception', 'The Lord of the Rings: The Return of the King'}), items_add=frozenset({'Interstellar'}), confidence=0.23076923076923075, lift=4.656548856548856)]),\n",
              " RelationRecord(items=frozenset({'inception', 'The Silence of the Lambs', 'Interstellar'}), support=0.004018215912135012, ordered_statistics=[OrderedStatistic(items_base=frozenset({'The Silence of the Lambs', 'Interstellar'}), items_add=frozenset({'inception'}), confidence=0.4411764705882353, lift=4.475303708439897)]),\n",
              " RelationRecord(items=frozenset({'inception', 'nan', 'Interstellar'}), support=0.015938923118135547, ordered_statistics=[OrderedStatistic(items_base=frozenset({'Interstellar'}), items_add=frozenset({'inception', 'nan'}), confidence=0.3216216216216216, lift=3.262536721504113), OrderedStatistic(items_base=frozenset({'nan', 'Interstellar'}), items_add=frozenset({'inception'}), confidence=0.3216216216216216, lift=3.262536721504113)]),\n",
              " RelationRecord(items=frozenset({'inception', \"It's a Wonderful Life\", 'The Lord of the Rings: The Fellowship of the Ring'}), support=0.005357621216180016, ordered_statistics=[OrderedStatistic(items_base=frozenset({\"It's a Wonderful Life\", 'The Lord of the Rings: The Fellowship of the Ring'}), items_add=frozenset({'inception'}), confidence=0.3225806451612903, lift=3.27226507713885)]),\n",
              " RelationRecord(items=frozenset({'Kanan Gill Comedy', 'The Intouchables', 'The Lord of the Rings: The Fellowship of the Ring'}), support=0.004018215912135012, ordered_statistics=[OrderedStatistic(items_base=frozenset({'Kanan Gill Comedy', 'The Lord of the Rings: The Fellowship of the Ring'}), items_add=frozenset({'The Intouchables'}), confidence=0.4545454545454546, lift=3.5022047096350506)]),\n",
              " RelationRecord(items=frozenset({'inception', 'The Lord of the Rings: The Fellowship of the Ring', 'Once Upon a Time in America'}), support=0.0030806321993035093, ordered_statistics=[OrderedStatistic(items_base=frozenset({'The Lord of the Rings: The Fellowship of the Ring', 'Once Upon a Time in America'}), items_add=frozenset({'inception'}), confidence=0.46, lift=4.66625), OrderedStatistic(items_base=frozenset({'inception', 'Once Upon a Time in America'}), items_add=frozenset({'The Lord of the Rings: The Fellowship of the Ring'}), confidence=0.6764705882352942, lift=3.870137480279469)]),\n",
              " RelationRecord(items=frozenset({'Prision Break', 'inception', 'The Intouchables'}), support=0.0038842753817305118, ordered_statistics=[OrderedStatistic(items_base=frozenset({'Prision Break', 'inception'}), items_add=frozenset({'The Intouchables'}), confidence=0.4084507042253521, lift=3.1470515559819185)]),\n",
              " RelationRecord(items=frozenset({'Pulp Fiction', 'The Lord of the Rings: The Two Towers', 'The Lord of the Rings: The Fellowship of the Ring'}), support=0.003750334851326011, ordered_statistics=[OrderedStatistic(items_base=frozenset({'Pulp Fiction', 'The Lord of the Rings: The Two Towers'}), items_add=frozenset({'The Lord of the Rings: The Fellowship of the Ring'}), confidence=0.5283018867924528, lift=3.022453553097665)]),\n",
              " RelationRecord(items=frozenset({\"Schindler's List\", 'The Intouchables', 'The Lion King'}), support=0.0030806321993035093, ordered_statistics=[OrderedStatistic(items_base=frozenset({\"Schindler's List\", 'The Lion King'}), items_add=frozenset({'The Intouchables'}), confidence=0.44230769230769235, lift=3.4079145828371837), OrderedStatistic(items_base=frozenset({'The Intouchables', 'The Lion King'}), items_add=frozenset({\"Schindler's List\"}), confidence=0.21904761904761905, lift=4.337956296576986)]),\n",
              " RelationRecord(items=frozenset({\"Schindler's List\", 'The Intouchables', 'The Silence of the Lambs'}), support=0.004018215912135012, ordered_statistics=[OrderedStatistic(items_base=frozenset({\"Schindler's List\", 'The Silence of the Lambs'}), items_add=frozenset({'The Intouchables'}), confidence=0.39473684210526316, lift=3.0413883004725437)]),\n",
              " RelationRecord(items=frozenset({'inception', \"Schindler's List\", 'The Intouchables'}), support=0.004018215912135012, ordered_statistics=[OrderedStatistic(items_base=frozenset({'inception', \"Schindler's List\"}), items_add=frozenset({'The Intouchables'}), confidence=0.4109589041095891, lift=3.166376860765936)]),\n",
              " RelationRecord(items=frozenset({'Se7en', 'The Intouchables', 'The Lord of the Rings: The Fellowship of the Ring'}), support=0.00334851326011251, ordered_statistics=[OrderedStatistic(items_base=frozenset({'Se7en', 'The Lord of the Rings: The Fellowship of the Ring'}), items_add=frozenset({'The Intouchables'}), confidence=0.4166666666666667, lift=3.210354317165463)]),\n",
              " RelationRecord(items=frozenset({'inception', 'The Departed', 'The Lord of the Rings: The Fellowship of the Ring'}), support=0.004821859094562015, ordered_statistics=[OrderedStatistic(items_base=frozenset({'The Departed', 'The Lord of the Rings: The Fellowship of the Ring'}), items_add=frozenset({'inception'}), confidence=0.3025210084033614, lift=3.0687796857873586), OrderedStatistic(items_base=frozenset({'inception', 'The Departed'}), items_add=frozenset({'The Lord of the Rings: The Fellowship of the Ring'}), confidence=0.5714285714285714, lift=3.269184455391352)]),\n",
              " RelationRecord(items=frozenset({'The Intouchables', 'The Godfather: Part II', 'The Shawshank Redemption'}), support=0.0032145727297080095, ordered_statistics=[OrderedStatistic(items_base=frozenset({'The Intouchables', 'The Godfather: Part II'}), items_add=frozenset({'The Shawshank Redemption'}), confidence=0.2823529411764706, lift=3.2282497072335823)]),\n",
              " RelationRecord(items=frozenset({'The Godfather: Part II', 'The Shawshank Redemption', 'The Silence of the Lambs'}), support=0.0030806321993035093, ordered_statistics=[OrderedStatistic(items_base=frozenset({'The Godfather: Part II', 'The Silence of the Lambs'}), items_add=frozenset({'The Shawshank Redemption'}), confidence=0.27058823529411763, lift=3.093739302765516)]),\n",
              " RelationRecord(items=frozenset({'whole wheat Star Wars: Episode V - The Empire Strikes Back', 'The Lion King', 'The Lord of the Rings: The Fellowship of the Ring'}), support=0.0030806321993035093, ordered_statistics=[OrderedStatistic(items_base=frozenset({'whole wheat Star Wars: Episode V - The Empire Strikes Back', 'The Lord of the Rings: The Fellowship of the Ring'}), items_add=frozenset({'The Lion King'}), confidence=0.2169811320754717, lift=3.157857957262128)]),\n",
              " RelationRecord(items=frozenset({'inception', 'The Lion King', 'Whiplash'}), support=0.0030806321993035093, ordered_statistics=[OrderedStatistic(items_base=frozenset({'inception', 'Whiplash'}), items_add=frozenset({'The Lion King'}), confidence=0.20720720720720723, lift=3.0156121033314016)]),\n",
              " RelationRecord(items=frozenset({'inception', 'The Wolf of Wall Street', 'The Lord of the Rings: The Fellowship of the Ring'}), support=0.0030806321993035093, ordered_statistics=[OrderedStatistic(items_base=frozenset({'The Wolf of Wall Street'}), items_add=frozenset({'inception', 'The Lord of the Rings: The Fellowship of the Ring'}), confidence=0.2169811320754717, lift=5.510139905018612), OrderedStatistic(items_base=frozenset({'The Wolf of Wall Street', 'The Lord of the Rings: The Fellowship of the Ring'}), items_add=frozenset({'inception'}), confidence=0.48936170212765956, lift=4.964095744680851), OrderedStatistic(items_base=frozenset({'inception', 'The Wolf of Wall Street'}), items_add=frozenset({'The Lord of the Rings: The Fellowship of the Ring'}), confidence=0.5750000000000001, lift=3.2896168582375487)]),\n",
              " RelationRecord(items=frozenset({'inception', 'nan', 'The Wolf of Wall Street'}), support=0.005357621216180016, ordered_statistics=[OrderedStatistic(items_base=frozenset({'The Wolf of Wall Street'}), items_add=frozenset({'inception', 'nan'}), confidence=0.3773584905660377, lift=3.8279327317473335), OrderedStatistic(items_base=frozenset({'nan', 'The Wolf of Wall Street'}), items_add=frozenset({'inception'}), confidence=0.3773584905660377, lift=3.8279327317473335)])]"
            ]
          },
          "metadata": {},
          "execution_count": 8
        }
      ]
    },
    {
      "cell_type": "code",
      "source": [
        "def inspect(results):\n",
        "  movie_1 = [tuple(result[2][0][0])[0] for result in results]\n",
        "  movie_2 = [tuple(result[2][0][1])[0] for result in results]\n",
        "  supports = [result[1] for result in results]\n",
        "  return list(zip(movie_1,movie_2,supports))\n",
        "resultsinDataFrame = pd.DataFrame(inspect(results),columns=['Movie 1','Movie 2','Support'])"
      ],
      "metadata": {
        "id": "WlHimpFeqYHf"
      },
      "execution_count": 9,
      "outputs": []
    },
    {
      "cell_type": "code",
      "source": [
        "resultsinDataFrame"
      ],
      "metadata": {
        "colab": {
          "base_uri": "https://localhost:8080/",
          "height": 656
        },
        "id": "JRu58No1rzKn",
        "outputId": "94dd927e-9073-4312-9f06-98795505cbc0"
      },
      "execution_count": 10,
      "outputs": [
        {
          "output_type": "execute_result",
          "data": {
            "text/plain": [
              "                                              Movie 1  \\\n",
              "0                                     Captain America   \n",
              "1                                     Game of thrones   \n",
              "2                                   Kanan Gill Comedy   \n",
              "3                                     Game of thrones   \n",
              "4                                      Harry Potter 1   \n",
              "..                                                ...   \n",
              "60                             The Godfather: Part II   \n",
              "61  whole wheat Star Wars: Episode V - The Empire ...   \n",
              "62                                          inception   \n",
              "63                            The Wolf of Wall Street   \n",
              "64                            The Wolf of Wall Street   \n",
              "\n",
              "                     Movie 2   Support  \n",
              "0              Black Panther  0.003349  \n",
              "1   Comedy nights with Kapil  0.003215  \n",
              "2   Comedy nights with Kapil  0.008036  \n",
              "3              Prision Break  0.004554  \n",
              "4             Harry Potter 2  0.005759  \n",
              "..                       ...       ...  \n",
              "60  The Shawshank Redemption  0.003081  \n",
              "61             The Lion King  0.003081  \n",
              "62             The Lion King  0.003081  \n",
              "63                 inception  0.003081  \n",
              "64                 inception  0.005358  \n",
              "\n",
              "[65 rows x 3 columns]"
            ],
            "text/html": [
              "\n",
              "  <div id=\"df-49b18b7b-8405-475d-8ecf-7405d4544562\">\n",
              "    <div class=\"colab-df-container\">\n",
              "      <div>\n",
              "<style scoped>\n",
              "    .dataframe tbody tr th:only-of-type {\n",
              "        vertical-align: middle;\n",
              "    }\n",
              "\n",
              "    .dataframe tbody tr th {\n",
              "        vertical-align: top;\n",
              "    }\n",
              "\n",
              "    .dataframe thead th {\n",
              "        text-align: right;\n",
              "    }\n",
              "</style>\n",
              "<table border=\"1\" class=\"dataframe\">\n",
              "  <thead>\n",
              "    <tr style=\"text-align: right;\">\n",
              "      <th></th>\n",
              "      <th>Movie 1</th>\n",
              "      <th>Movie 2</th>\n",
              "      <th>Support</th>\n",
              "    </tr>\n",
              "  </thead>\n",
              "  <tbody>\n",
              "    <tr>\n",
              "      <th>0</th>\n",
              "      <td>Captain America</td>\n",
              "      <td>Black Panther</td>\n",
              "      <td>0.003349</td>\n",
              "    </tr>\n",
              "    <tr>\n",
              "      <th>1</th>\n",
              "      <td>Game of thrones</td>\n",
              "      <td>Comedy nights with Kapil</td>\n",
              "      <td>0.003215</td>\n",
              "    </tr>\n",
              "    <tr>\n",
              "      <th>2</th>\n",
              "      <td>Kanan Gill Comedy</td>\n",
              "      <td>Comedy nights with Kapil</td>\n",
              "      <td>0.008036</td>\n",
              "    </tr>\n",
              "    <tr>\n",
              "      <th>3</th>\n",
              "      <td>Game of thrones</td>\n",
              "      <td>Prision Break</td>\n",
              "      <td>0.004554</td>\n",
              "    </tr>\n",
              "    <tr>\n",
              "      <th>4</th>\n",
              "      <td>Harry Potter 1</td>\n",
              "      <td>Harry Potter 2</td>\n",
              "      <td>0.005759</td>\n",
              "    </tr>\n",
              "    <tr>\n",
              "      <th>...</th>\n",
              "      <td>...</td>\n",
              "      <td>...</td>\n",
              "      <td>...</td>\n",
              "    </tr>\n",
              "    <tr>\n",
              "      <th>60</th>\n",
              "      <td>The Godfather: Part II</td>\n",
              "      <td>The Shawshank Redemption</td>\n",
              "      <td>0.003081</td>\n",
              "    </tr>\n",
              "    <tr>\n",
              "      <th>61</th>\n",
              "      <td>whole wheat Star Wars: Episode V - The Empire ...</td>\n",
              "      <td>The Lion King</td>\n",
              "      <td>0.003081</td>\n",
              "    </tr>\n",
              "    <tr>\n",
              "      <th>62</th>\n",
              "      <td>inception</td>\n",
              "      <td>The Lion King</td>\n",
              "      <td>0.003081</td>\n",
              "    </tr>\n",
              "    <tr>\n",
              "      <th>63</th>\n",
              "      <td>The Wolf of Wall Street</td>\n",
              "      <td>inception</td>\n",
              "      <td>0.003081</td>\n",
              "    </tr>\n",
              "    <tr>\n",
              "      <th>64</th>\n",
              "      <td>The Wolf of Wall Street</td>\n",
              "      <td>inception</td>\n",
              "      <td>0.005358</td>\n",
              "    </tr>\n",
              "  </tbody>\n",
              "</table>\n",
              "<p>65 rows × 3 columns</p>\n",
              "</div>\n",
              "      <button class=\"colab-df-convert\" onclick=\"convertToInteractive('df-49b18b7b-8405-475d-8ecf-7405d4544562')\"\n",
              "              title=\"Convert this dataframe to an interactive table.\"\n",
              "              style=\"display:none;\">\n",
              "        \n",
              "  <svg xmlns=\"http://www.w3.org/2000/svg\" height=\"24px\"viewBox=\"0 0 24 24\"\n",
              "       width=\"24px\">\n",
              "    <path d=\"M0 0h24v24H0V0z\" fill=\"none\"/>\n",
              "    <path d=\"M18.56 5.44l.94 2.06.94-2.06 2.06-.94-2.06-.94-.94-2.06-.94 2.06-2.06.94zm-11 1L8.5 8.5l.94-2.06 2.06-.94-2.06-.94L8.5 2.5l-.94 2.06-2.06.94zm10 10l.94 2.06.94-2.06 2.06-.94-2.06-.94-.94-2.06-.94 2.06-2.06.94z\"/><path d=\"M17.41 7.96l-1.37-1.37c-.4-.4-.92-.59-1.43-.59-.52 0-1.04.2-1.43.59L10.3 9.45l-7.72 7.72c-.78.78-.78 2.05 0 2.83L4 21.41c.39.39.9.59 1.41.59.51 0 1.02-.2 1.41-.59l7.78-7.78 2.81-2.81c.8-.78.8-2.07 0-2.86zM5.41 20L4 18.59l7.72-7.72 1.47 1.35L5.41 20z\"/>\n",
              "  </svg>\n",
              "      </button>\n",
              "      \n",
              "  <style>\n",
              "    .colab-df-container {\n",
              "      display:flex;\n",
              "      flex-wrap:wrap;\n",
              "      gap: 12px;\n",
              "    }\n",
              "\n",
              "    .colab-df-convert {\n",
              "      background-color: #E8F0FE;\n",
              "      border: none;\n",
              "      border-radius: 50%;\n",
              "      cursor: pointer;\n",
              "      display: none;\n",
              "      fill: #1967D2;\n",
              "      height: 32px;\n",
              "      padding: 0 0 0 0;\n",
              "      width: 32px;\n",
              "    }\n",
              "\n",
              "    .colab-df-convert:hover {\n",
              "      background-color: #E2EBFA;\n",
              "      box-shadow: 0px 1px 2px rgba(60, 64, 67, 0.3), 0px 1px 3px 1px rgba(60, 64, 67, 0.15);\n",
              "      fill: #174EA6;\n",
              "    }\n",
              "\n",
              "    [theme=dark] .colab-df-convert {\n",
              "      background-color: #3B4455;\n",
              "      fill: #D2E3FC;\n",
              "    }\n",
              "\n",
              "    [theme=dark] .colab-df-convert:hover {\n",
              "      background-color: #434B5C;\n",
              "      box-shadow: 0px 1px 3px 1px rgba(0, 0, 0, 0.15);\n",
              "      filter: drop-shadow(0px 1px 2px rgba(0, 0, 0, 0.3));\n",
              "      fill: #FFFFFF;\n",
              "    }\n",
              "  </style>\n",
              "\n",
              "      <script>\n",
              "        const buttonEl =\n",
              "          document.querySelector('#df-49b18b7b-8405-475d-8ecf-7405d4544562 button.colab-df-convert');\n",
              "        buttonEl.style.display =\n",
              "          google.colab.kernel.accessAllowed ? 'block' : 'none';\n",
              "\n",
              "        async function convertToInteractive(key) {\n",
              "          const element = document.querySelector('#df-49b18b7b-8405-475d-8ecf-7405d4544562');\n",
              "          const dataTable =\n",
              "            await google.colab.kernel.invokeFunction('convertToInteractive',\n",
              "                                                     [key], {});\n",
              "          if (!dataTable) return;\n",
              "\n",
              "          const docLinkHtml = 'Like what you see? Visit the ' +\n",
              "            '<a target=\"_blank\" href=https://colab.research.google.com/notebooks/data_table.ipynb>data table notebook</a>'\n",
              "            + ' to learn more about interactive tables.';\n",
              "          element.innerHTML = '';\n",
              "          dataTable['output_type'] = 'display_data';\n",
              "          await google.colab.output.renderOutput(dataTable, element);\n",
              "          const docLink = document.createElement('div');\n",
              "          docLink.innerHTML = docLinkHtml;\n",
              "          element.appendChild(docLink);\n",
              "        }\n",
              "      </script>\n",
              "    </div>\n",
              "  </div>\n",
              "  "
            ]
          },
          "metadata": {},
          "execution_count": 10
        }
      ]
    },
    {
      "cell_type": "code",
      "source": [
        "resultsinDataFrame.nlargest(n=10,columns = 'Support')"
      ],
      "metadata": {
        "colab": {
          "base_uri": "https://localhost:8080/",
          "height": 363
        },
        "id": "a67sRobRsKyN",
        "outputId": "09cefedb-5c0f-4611-f8dd-32c3045f67c3"
      },
      "execution_count": 11,
      "outputs": [
        {
          "output_type": "execute_result",
          "data": {
            "text/plain": [
              "                                              Movie 1  \\\n",
              "7                                        Interstellar   \n",
              "48                                       Interstellar   \n",
              "20  The Lord of the Rings: The Fellowship of the Ring   \n",
              "2                                   Kanan Gill Comedy   \n",
              "26                                  Kanan Gill Comedy   \n",
              "15                              The Lord of the rings   \n",
              "31                                   The Intouchables   \n",
              "17  The Lord of the Rings: The Fellowship of the Ring   \n",
              "43                                    The Dark Knight   \n",
              "45  The Lord of the Rings: The Fellowship of the Ring   \n",
              "\n",
              "                     Movie 2   Support  \n",
              "7                  inception  0.015939  \n",
              "48                 inception  0.015939  \n",
              "20                 inception  0.008706  \n",
              "2   Comedy nights with Kapil  0.008036  \n",
              "26  Comedy nights with Kapil  0.008036  \n",
              "15                     Billa  0.007233  \n",
              "31  Comedy nights with Kapil  0.007233  \n",
              "17             The Lion King  0.006697  \n",
              "43                 inception  0.006697  \n",
              "45                 inception  0.006429  "
            ],
            "text/html": [
              "\n",
              "  <div id=\"df-02862e69-52d0-428a-ad31-8ec3cb597745\">\n",
              "    <div class=\"colab-df-container\">\n",
              "      <div>\n",
              "<style scoped>\n",
              "    .dataframe tbody tr th:only-of-type {\n",
              "        vertical-align: middle;\n",
              "    }\n",
              "\n",
              "    .dataframe tbody tr th {\n",
              "        vertical-align: top;\n",
              "    }\n",
              "\n",
              "    .dataframe thead th {\n",
              "        text-align: right;\n",
              "    }\n",
              "</style>\n",
              "<table border=\"1\" class=\"dataframe\">\n",
              "  <thead>\n",
              "    <tr style=\"text-align: right;\">\n",
              "      <th></th>\n",
              "      <th>Movie 1</th>\n",
              "      <th>Movie 2</th>\n",
              "      <th>Support</th>\n",
              "    </tr>\n",
              "  </thead>\n",
              "  <tbody>\n",
              "    <tr>\n",
              "      <th>7</th>\n",
              "      <td>Interstellar</td>\n",
              "      <td>inception</td>\n",
              "      <td>0.015939</td>\n",
              "    </tr>\n",
              "    <tr>\n",
              "      <th>48</th>\n",
              "      <td>Interstellar</td>\n",
              "      <td>inception</td>\n",
              "      <td>0.015939</td>\n",
              "    </tr>\n",
              "    <tr>\n",
              "      <th>20</th>\n",
              "      <td>The Lord of the Rings: The Fellowship of the Ring</td>\n",
              "      <td>inception</td>\n",
              "      <td>0.008706</td>\n",
              "    </tr>\n",
              "    <tr>\n",
              "      <th>2</th>\n",
              "      <td>Kanan Gill Comedy</td>\n",
              "      <td>Comedy nights with Kapil</td>\n",
              "      <td>0.008036</td>\n",
              "    </tr>\n",
              "    <tr>\n",
              "      <th>26</th>\n",
              "      <td>Kanan Gill Comedy</td>\n",
              "      <td>Comedy nights with Kapil</td>\n",
              "      <td>0.008036</td>\n",
              "    </tr>\n",
              "    <tr>\n",
              "      <th>15</th>\n",
              "      <td>The Lord of the rings</td>\n",
              "      <td>Billa</td>\n",
              "      <td>0.007233</td>\n",
              "    </tr>\n",
              "    <tr>\n",
              "      <th>31</th>\n",
              "      <td>The Intouchables</td>\n",
              "      <td>Comedy nights with Kapil</td>\n",
              "      <td>0.007233</td>\n",
              "    </tr>\n",
              "    <tr>\n",
              "      <th>17</th>\n",
              "      <td>The Lord of the Rings: The Fellowship of the Ring</td>\n",
              "      <td>The Lion King</td>\n",
              "      <td>0.006697</td>\n",
              "    </tr>\n",
              "    <tr>\n",
              "      <th>43</th>\n",
              "      <td>The Dark Knight</td>\n",
              "      <td>inception</td>\n",
              "      <td>0.006697</td>\n",
              "    </tr>\n",
              "    <tr>\n",
              "      <th>45</th>\n",
              "      <td>The Lord of the Rings: The Fellowship of the Ring</td>\n",
              "      <td>inception</td>\n",
              "      <td>0.006429</td>\n",
              "    </tr>\n",
              "  </tbody>\n",
              "</table>\n",
              "</div>\n",
              "      <button class=\"colab-df-convert\" onclick=\"convertToInteractive('df-02862e69-52d0-428a-ad31-8ec3cb597745')\"\n",
              "              title=\"Convert this dataframe to an interactive table.\"\n",
              "              style=\"display:none;\">\n",
              "        \n",
              "  <svg xmlns=\"http://www.w3.org/2000/svg\" height=\"24px\"viewBox=\"0 0 24 24\"\n",
              "       width=\"24px\">\n",
              "    <path d=\"M0 0h24v24H0V0z\" fill=\"none\"/>\n",
              "    <path d=\"M18.56 5.44l.94 2.06.94-2.06 2.06-.94-2.06-.94-.94-2.06-.94 2.06-2.06.94zm-11 1L8.5 8.5l.94-2.06 2.06-.94-2.06-.94L8.5 2.5l-.94 2.06-2.06.94zm10 10l.94 2.06.94-2.06 2.06-.94-2.06-.94-.94-2.06-.94 2.06-2.06.94z\"/><path d=\"M17.41 7.96l-1.37-1.37c-.4-.4-.92-.59-1.43-.59-.52 0-1.04.2-1.43.59L10.3 9.45l-7.72 7.72c-.78.78-.78 2.05 0 2.83L4 21.41c.39.39.9.59 1.41.59.51 0 1.02-.2 1.41-.59l7.78-7.78 2.81-2.81c.8-.78.8-2.07 0-2.86zM5.41 20L4 18.59l7.72-7.72 1.47 1.35L5.41 20z\"/>\n",
              "  </svg>\n",
              "      </button>\n",
              "      \n",
              "  <style>\n",
              "    .colab-df-container {\n",
              "      display:flex;\n",
              "      flex-wrap:wrap;\n",
              "      gap: 12px;\n",
              "    }\n",
              "\n",
              "    .colab-df-convert {\n",
              "      background-color: #E8F0FE;\n",
              "      border: none;\n",
              "      border-radius: 50%;\n",
              "      cursor: pointer;\n",
              "      display: none;\n",
              "      fill: #1967D2;\n",
              "      height: 32px;\n",
              "      padding: 0 0 0 0;\n",
              "      width: 32px;\n",
              "    }\n",
              "\n",
              "    .colab-df-convert:hover {\n",
              "      background-color: #E2EBFA;\n",
              "      box-shadow: 0px 1px 2px rgba(60, 64, 67, 0.3), 0px 1px 3px 1px rgba(60, 64, 67, 0.15);\n",
              "      fill: #174EA6;\n",
              "    }\n",
              "\n",
              "    [theme=dark] .colab-df-convert {\n",
              "      background-color: #3B4455;\n",
              "      fill: #D2E3FC;\n",
              "    }\n",
              "\n",
              "    [theme=dark] .colab-df-convert:hover {\n",
              "      background-color: #434B5C;\n",
              "      box-shadow: 0px 1px 3px 1px rgba(0, 0, 0, 0.15);\n",
              "      filter: drop-shadow(0px 1px 2px rgba(0, 0, 0, 0.3));\n",
              "      fill: #FFFFFF;\n",
              "    }\n",
              "  </style>\n",
              "\n",
              "      <script>\n",
              "        const buttonEl =\n",
              "          document.querySelector('#df-02862e69-52d0-428a-ad31-8ec3cb597745 button.colab-df-convert');\n",
              "        buttonEl.style.display =\n",
              "          google.colab.kernel.accessAllowed ? 'block' : 'none';\n",
              "\n",
              "        async function convertToInteractive(key) {\n",
              "          const element = document.querySelector('#df-02862e69-52d0-428a-ad31-8ec3cb597745');\n",
              "          const dataTable =\n",
              "            await google.colab.kernel.invokeFunction('convertToInteractive',\n",
              "                                                     [key], {});\n",
              "          if (!dataTable) return;\n",
              "\n",
              "          const docLinkHtml = 'Like what you see? Visit the ' +\n",
              "            '<a target=\"_blank\" href=https://colab.research.google.com/notebooks/data_table.ipynb>data table notebook</a>'\n",
              "            + ' to learn more about interactive tables.';\n",
              "          element.innerHTML = '';\n",
              "          dataTable['output_type'] = 'display_data';\n",
              "          await google.colab.output.renderOutput(dataTable, element);\n",
              "          const docLink = document.createElement('div');\n",
              "          docLink.innerHTML = docLinkHtml;\n",
              "          element.appendChild(docLink);\n",
              "        }\n",
              "      </script>\n",
              "    </div>\n",
              "  </div>\n",
              "  "
            ]
          },
          "metadata": {},
          "execution_count": 11
        }
      ]
    }
  ]
}